{
 "cells": [
  {
   "cell_type": "code",
   "execution_count": 4,
   "metadata": {},
   "outputs": [],
   "source": [
    "import dotenv\n",
    "import warnings\n",
    "import os\n",
    "import google.generativeai as genai\n",
    "from dotenv import load_dotenv\n",
    "from PIL import Image\n",
    "\n",
    "load_dotenv()\n",
    "genai.configure(api_key=os.getenv(\"GOOGLE_API_KEY\"))\n",
    "warnings.filterwarnings(\"ignore\", category=FutureWarning)"
   ]
  },
  {
   "cell_type": "code",
   "execution_count": 6,
   "metadata": {},
   "outputs": [
    {
     "name": "stdout",
     "output_type": "stream",
     "text": [
      "**Explanation**: \n",
      "- In golf, the goal is to complete a round of 18 holes with the fewest strokes possible. \n",
      "\n",
      "- Each stroke counts as one point.\n",
      "\n",
      "- The player with the lowest total score at the end of the round wins the game. \n",
      "\n",
      "- Getting a higher point total than others is not the objective of golf. \n",
      "\n",
      "\n",
      "**Answer**: \n",
      "No.\n"
     ]
    }
   ],
   "source": [
    "model = genai.GenerativeModel('gemini-pro')\n",
    "input = 'I have Stuffy, runny nose. Scratchy, tickly throat. Sneezing. Sore throat.'\n",
    "input_prompt = \"\"\" Question: Part of golf is trying to get a higher point total than others. Yes or No?\n",
    "\n",
    "Knowledge: The objective of golf is to play a set of holes in the least number of strokes. A round of golf typically consists of 18 holes. Each hole is played once in the round on a standard golf course. Each stroke is counted as one point, and the total number of strokes is used to determine the winner of the game.\n",
    "\n",
    "Explain and Answer: \n",
    "\"\"\"\n",
    "ouput = model.generate_content(input_prompt)\n",
    "print(ouput.text)"
   ]
  },
  {
   "cell_type": "code",
   "execution_count": 24,
   "metadata": {},
   "outputs": [
    {
     "name": "stdout",
     "output_type": "stream",
     "text": [
      " {\n",
      "    skills :  [\"C#\", \".NET\", \"Java\", \"JavaScript\", \"TypeScript\", \"C++\", \"i\", \"Cosmos DB\", \"MSSQL\", \"Node\", \"Express\", \"React\", \"Vue\", \"Redux\", \"jQuery\", \"NoSQL\", \"Git\", \"MicroServices\", \"Distributed Systems\", \"Frontend\", \"Backend\", \"Full-Stack\", \"English\", \"Korean\", \"Japanese\", \"OOP\", \"Unity 2D\", \"Game development\"],\n",
      "    experience: [\n",
      "        {\n",
      "            \"title\": \"YouTuber\",\n",
      "            \"company\": \"YouTube\",\n",
      "            \"location\": \"Redmond, WA, USA\",\n",
      "            \"startDate\": \"07/2021\",\n",
      "            \"endDate\": \"Current\",\n",
      "            \"description\": \"PIRATE KING. Software Engineering, SWE Skills & Entertainment, Tech Life, Coding, Career Advice, Let's Code\"\n",
      "        },\n",
      "        {\n",
      "            \"title\": \"Software Engineer\",\n",
      "            \"company\": \"Microsoft\",\n",
      "            \"location\": \"Redmond, WA, USA\",\n",
      "            \"startDate\": \"05/2018\",\n",
      "            \"endDate\": \"04/2022\",\n",
      "            \"description\": \"Led the design and development of multiple enterprise-level microservices applications of Commerce Engine Group, driving $35.3 billion of revenue every year using the latest technologies of Azure, C#, .NET, Cosmos DB, Azure Functions, Key Vault, and MS Graph.\\nDesigned and implemented scalable APIs and background workers for managing first- and third-party proprietary licenses using .NET. Core, Azure Functions, and other Azure cloud technologies that serve millions of license requests daily.\\nLed the development of several products E2E, from identifying system requirements and partner dependencies to workload balancing, software implementation, engineering, testing, and configuring telemetry, metrics, monitors, and dashboards.\\nEnriched system metrics by integrating the platforms with telemetry-facilitated in-depth logging by correlating APIs with vector contexts.\\nContinuous Integration/Deployment Pipeline integration, pull requests, code reviews, load tests, and unit/integration/E2E testing.\"\n",
      "        },\n",
      "        {\n",
      "            \"title\": \"Software Development Engineer\",\n",
      "            \"company\": \"Amazon\",\n",
      "            \"location\": \"Seattle, WA, USA\",\n",
      "            \"startDate\": \"04/2017\",\n",
      "            \"endDate\": \"04/2018\",\n",
      "            \"description\": \"Implemented enterprise applications of Prime's Content Experiment Platforms using Java, React, AngularJS, AWS, and DynamoDB.\\nDesigned and developed systems facilitating metrics to perform various optimization experiments within the Prime ecosystem.\\nAutomated and optimized business logic for the core marketing experiments, including A/B, Auto-targeting, and Multivariate Testing.\\nCompletely automated the marketing platforms' user-experience testing process by integrating Nightwatch Selenium.\"\n",
      "        },\n",
      "        {\n",
      "            \"title\": \"Software Engineer\",\n",
      "            \"company\": \"NCSoft\",\n",
      "            \"location\": \"Seoul, South Korea\",\n",
      "            \"startDate\": \"03/2017\",\n",
      "            \"endDate\": \"03/2018\",\n",
      "            \"description\": \"Designed and implemented enterprise fintech applications of South Korea's largest e-commerce platform (Gmarket, Auction, SmilePay), driving monthly revenue of $1 billion using C#, .NET, MVC, MSSQL, node, react, redux, and pyspark.\\nReported directly to CPO: Engineering lead for designing and developing the fintech transaction dashboard that provides a rich visual summary of daily user purchasing patterns powered by Google Chart. Used by the board of directors in the decision-making process.\\nIntegrated multiple third-party systems with the escrow platform, including Alipay, increasing global revenue by 23% in the first quarter.\\nEngineering owner of the E2E experience of the commerce platform's cancel, return, and exchange systems (PC/Mobile).\"\n",
      "        },\n",
      "        {\n",
      "            \"title\": \"Software Engineer, Intern\",\n",
      "            \"company\": \"NCsoft\",\n",
      "            \"location\": \"Seoul, South Korea\",\n",
      "            \"startDate\": \"07/2014\",\n",
      "            \"endDate\": \"08/2014\",\n",
      "            \"description\": \"Fashion Street: Mobile social game application development (Cocos2D+C++)\"\n",
      "        }\n",
      "    ],\n",
      "    education : [],\n",
      "    projects : [],\n",
      "}\n"
     ]
    }
   ],
   "source": [
    "vision_model = genai.GenerativeModel('gemini-pro-vision')\n",
    "input_prompt = '''extract the skills and experience and give the response in this format\n",
    "{\n",
    "    skills :  [],\n",
    "    experince: [],\n",
    "    education : [],\n",
    "    projects : [],\n",
    "}        \n",
    "'''\n",
    "image_path = \"C:\\\\Users\\\\klept\\\\OneDrive\\\\Pictures\\\\Screenshots\\\\Resume-1.png\"\n",
    "image = Image.open(image_path)\n",
    "ouput = vision_model.generate_content([input_prompt ,image])\n",
    "print(ouput.text)"
   ]
  },
  {
   "cell_type": "code",
   "execution_count": null,
   "metadata": {},
   "outputs": [],
   "source": []
  }
 ],
 "metadata": {
  "kernelspec": {
   "display_name": ".venv",
   "language": "python",
   "name": "python3"
  },
  "language_info": {
   "codemirror_mode": {
    "name": "ipython",
    "version": 3
   },
   "file_extension": ".py",
   "mimetype": "text/x-python",
   "name": "python",
   "nbconvert_exporter": "python",
   "pygments_lexer": "ipython3",
   "version": "3.11.3"
  }
 },
 "nbformat": 4,
 "nbformat_minor": 2
}
